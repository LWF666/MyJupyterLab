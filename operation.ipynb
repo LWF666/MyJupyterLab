{
 "metadata": {
  "language_info": {
   "codemirror_mode": {
    "name": "ipython",
    "version": 3
   },
   "file_extension": ".py",
   "mimetype": "text/x-python",
   "name": "python",
   "nbconvert_exporter": "python",
   "pygments_lexer": "ipython3",
   "version": "3.8.3-final"
  },
  "orig_nbformat": 2,
  "kernelspec": {
   "name": "python3",
   "display_name": "Python 3"
  }
 },
 "nbformat": 4,
 "nbformat_minor": 2,
 "cells": [
  {
   "cell_type": "code",
   "execution_count": 1,
   "metadata": {},
   "outputs": [],
   "source": [
    "# 学习python的基础运算"
   ]
  },
  {
   "cell_type": "code",
   "execution_count": 2,
   "metadata": {},
   "outputs": [],
   "source": [
    "# 定义变量\n",
    "a = 7\n",
    "b = 2"
   ]
  },
  {
   "cell_type": "code",
   "execution_count": 4,
   "metadata": {
    "tags": []
   },
   "outputs": [
    {
     "output_type": "stream",
     "name": "stdout",
     "text": "9\n5\n14\n3.5\n3\n1\n49\n(3, 1)\n"
    }
   ],
   "source": [
    "# 运算\n",
    "print(a + b)\n",
    "print(a - b)\n",
    "print(a * b)\n",
    "# /运算是浮点数除法，得出的值是一个浮点数\n",
    "print(a / b)\n",
    "# // 是整数除法，得出的值忽略余数，只有整数\n",
    "print(a // b)\n",
    "# % 是取模，也就是求余数\n",
    "print(a % b)\n",
    "# ** 是幂运算\n",
    "print(a ** b)\n",
    "# 通过divmod()函数同时得到商和余数\n",
    "print(divmod(a, b))"
   ]
  }
 ]
}